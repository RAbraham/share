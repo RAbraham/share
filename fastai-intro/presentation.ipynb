{
 "cells": [
  {
   "cell_type": "markdown",
   "id": "9405cb95",
   "metadata": {
    "slideshow": {
     "slide_type": "slide"
    }
   },
   "source": [
    "# Deep Learning in ~5 lines of code with fastai\n"
   ]
  },
  {
   "cell_type": "markdown",
   "id": "afc5ead4",
   "metadata": {
    "slideshow": {
     "slide_type": "slide"
    }
   },
   "source": [
    "# Why 5 lines of code? Transfer Learning\n",
    "\n",
    "    - Use someone else's trained model, trained over hours, even days\n",
    "    - cut and add 1(or more layers) to represent our project specific task\n",
    "    \n",
    "\n"
   ]
  },
  {
   "cell_type": "markdown",
   "id": "ae3dcd33",
   "metadata": {
    "slideshow": {
     "slide_type": "slide"
    }
   },
   "source": [
    "![](./img/transfer-learning-papers-with-code.jpg)\n",
    "credit: medium.com/@subodh.malgonde"
   ]
  },
  {
   "cell_type": "markdown",
   "id": "e92e67c6",
   "metadata": {
    "slideshow": {
     "slide_type": "slide"
    }
   },
   "source": [
    "# Pretrained Models(Cont'd)\n",
    "\n",
    "* Many Pretrained Models. \n",
    "* Even domain specific pretrained models. E.g. MedSpacy(Library for clinical NLP with spaCy)\n",
    "   \n"
   ]
  },
  {
   "cell_type": "markdown",
   "id": "affc2e07",
   "metadata": {
    "slideshow": {
     "slide_type": "slide"
    }
   },
   "source": [
    "\n",
    "# Why fastai? High Level Abstractions for Deep Learning\n",
    "\n",
    "\n"
   ]
  },
  {
   "cell_type": "markdown",
   "id": "ed590c11",
   "metadata": {
    "slideshow": {
     "slide_type": "slide"
    }
   },
   "source": [
    "```python\n",
    "from fastai.vision.all import *\n",
    "\n",
    "# Data Prep\n",
    "path = untar_data(URLs.PETS)/'images'\n",
    "\n",
    "\n",
    "# ML in 5 lines \n",
    "def is_cat(file_name): return file_name[0].isupper() # For 'images' if file name is upper cased, it's a cat else dog\n",
    "dls = ImageDataLoaders.from_name_func(path, get_image_files(path), valid_pct=0.2, seed=42, label_func=is_cat, item_tfms=Resize(224))\n",
    "learn = vision_learner(dls, resnet34, metrics=error_rate)\n",
    "learn.fine_tune(1)\n",
    "```\n"
   ]
  },
  {
   "cell_type": "markdown",
   "id": "cbb095ea",
   "metadata": {
    "slideshow": {
     "slide_type": "slide"
    }
   },
   "source": [
    "```python\n",
    "# Prediction\n",
    "img = PILImage.create(\"/Path/to/some_image.jpeg\") # PILImage is a fastai class\n",
    "is_cat,_,probs = learn.predict(img) # <------------------------------\n",
    "\n",
    "print(f\"Is this a cat?: {is_cat}.\")\n",
    "print(f\"Probability it's a cat: {probs[1].item():.6f}\")\n",
    "\n",
    "```\n",
    "\n",
    "\n",
    "# Output\n",
    "Is this a cat?: True.\n",
    "\n",
    "Probability it's a cat: 1.000000\n"
   ]
  },
  {
   "cell_type": "markdown",
   "id": "9923dda0",
   "metadata": {},
   "source": [
    "https://colab.research.google.com/drive/1bJKP2E2ghoTszQo0C2dMqe5j04kIzeTT#scrollTo=p3QSpa2loEX_"
   ]
  },
  {
   "cell_type": "markdown",
   "id": "5c4db702",
   "metadata": {},
   "source": [
    "### Another Example\n",
    "\n",
    "RA: Show Bears and Image classification example\n",
    "\n",
    "\n"
   ]
  },
  {
   "cell_type": "markdown",
   "id": "740a5e7e",
   "metadata": {},
   "source": [
    "\n",
    "### Datablock\n",
    "\n",
    "```python\n",
    "path = .... path to images .. \n",
    "bears = DataBlock(\n",
    "    blocks=(ImageBlock, CategoryBlock), \n",
    "    get_items=get_image_files, \n",
    "    splitter=RandomSplitter(valid_pct=0.2, seed=42),\n",
    "    get_y=parent_label,\n",
    "    item_tfms=Resize(128))\n",
    "dls = bears.dataloaders(path)\n",
    "```"
   ]
  },
  {
   "cell_type": "markdown",
   "id": "ca5235be",
   "metadata": {},
   "source": [
    "\n",
    "## SegmentationDataLoader\n",
    "\n",
    "\n",
    "\n"
   ]
  },
  {
   "cell_type": "code",
   "execution_count": null,
   "id": "6e51f1da",
   "metadata": {},
   "outputs": [],
   "source": []
  },
  {
   "cell_type": "markdown",
   "id": "a491ac5f",
   "metadata": {},
   "source": [
    "--- \n",
    "\n",
    "## TextDataLoader\n",
    "\n",
    "---"
   ]
  },
  {
   "cell_type": "code",
   "execution_count": 16,
   "id": "52f415eb",
   "metadata": {},
   "outputs": [
    {
     "ename": "SyntaxError",
     "evalue": "invalid syntax (2942632767.py, line 3)",
     "output_type": "error",
     "traceback": [
      "\u001b[0;36m  Cell \u001b[0;32mIn[16], line 3\u001b[0;36m\u001b[0m\n\u001b[0;31m    ---\u001b[0m\n\u001b[0m       ^\u001b[0m\n\u001b[0;31mSyntaxError\u001b[0m\u001b[0;31m:\u001b[0m invalid syntax\n"
     ]
    }
   ],
   "source": [
    "\n",
    "## TabularDataLoader\n",
    "\n",
    "---"
   ]
  },
  {
   "cell_type": "code",
   "execution_count": 17,
   "id": "95f0f146",
   "metadata": {},
   "outputs": [
    {
     "ename": "SyntaxError",
     "evalue": "invalid syntax (255103018.py, line 3)",
     "output_type": "error",
     "traceback": [
      "\u001b[0;36m  Cell \u001b[0;32mIn[17], line 3\u001b[0;36m\u001b[0m\n\u001b[0;31m    ---\u001b[0m\n\u001b[0m       ^\u001b[0m\n\u001b[0;31mSyntaxError\u001b[0m\u001b[0;31m:\u001b[0m invalid syntax\n"
     ]
    }
   ],
   "source": [
    "\n",
    "## CollabDataLoader\n",
    "\n",
    "---"
   ]
  },
  {
   "cell_type": "code",
   "execution_count": null,
   "id": "6a7b9eff",
   "metadata": {},
   "outputs": [],
   "source": [
    "- Sensible/Practical default behaviour from years of experience(Kaggle Grandmaster)\n"
   ]
  },
  {
   "cell_type": "code",
   "execution_count": 18,
   "id": "c509f324",
   "metadata": {},
   "outputs": [
    {
     "ename": "SyntaxError",
     "evalue": "invalid syntax (3433119980.py, line 3)",
     "output_type": "error",
     "traceback": [
      "\u001b[0;36m  Cell \u001b[0;32mIn[18], line 3\u001b[0;36m\u001b[0m\n\u001b[0;31m    * Designed for notebook based experimentation\u001b[0m\n\u001b[0m               ^\u001b[0m\n\u001b[0;31mSyntaxError\u001b[0m\u001b[0;31m:\u001b[0m invalid syntax\n"
     ]
    }
   ],
   "source": [
    "# Why fastai? Interactivity\n",
    "\n",
    "* Designed for notebook based experimentation\n",
    "\n",
    "\n",
    "---\n",
    "## E.g.\n",
    "RA: Demo or show with an example\n",
    "\n",
    "What I love:\n",
    "- library designed with UX in mind.\n",
    "    - dls.show_batch(max_n=9, figsize=(4,4)) . Normally, we would use adhoc code to view the data or even the file explorer!\n",
    "    - datablock_a.summary()\n",
    "    - train\n",
    "    - cleaner\n",
    "    - confusion matrix\n",
    "    - notebooks for everything\n"
   ]
  },
  {
   "cell_type": "code",
   "execution_count": 19,
   "id": "33df54d1",
   "metadata": {},
   "outputs": [
    {
     "ename": "SyntaxError",
     "evalue": "invalid syntax (3176983251.py, line 1)",
     "output_type": "error",
     "traceback": [
      "\u001b[0;36m  Cell \u001b[0;32mIn[19], line 1\u001b[0;36m\u001b[0m\n\u001b[0;31m    ---\u001b[0m\n\u001b[0m       ^\u001b[0m\n\u001b[0;31mSyntaxError\u001b[0m\u001b[0;31m:\u001b[0m invalid syntax\n"
     ]
    }
   ],
   "source": [
    "---\n",
    "# Why fastai? Well designed\n",
    "- RA: cite fastai paper\n",
    "- RA: copy any high level diagram in paper"
   ]
  },
  {
   "cell_type": "code",
   "execution_count": 20,
   "id": "ee70d8df",
   "metadata": {},
   "outputs": [
    {
     "ename": "SyntaxError",
     "evalue": "invalid syntax (3170298667.py, line 1)",
     "output_type": "error",
     "traceback": [
      "\u001b[0;36m  Cell \u001b[0;32mIn[20], line 1\u001b[0;36m\u001b[0m\n\u001b[0;31m    ---\u001b[0m\n\u001b[0m       ^\u001b[0m\n\u001b[0;31mSyntaxError\u001b[0m\u001b[0;31m:\u001b[0m invalid syntax\n"
     ]
    }
   ],
   "source": [
    "---\n",
    "# Why fastai? Teaching\n",
    "* \"Make Deep Learning Boring again\" RA: check quotation\n",
    "* Top Down approach\n",
    "* RA: FastAI course/book/forums link\n",
    "\n",
    "- fastai makes deep learning accessible \n",
    "- a supportive community\n",
    "- free learning resources \n",
    "\n"
   ]
  },
  {
   "cell_type": "code",
   "execution_count": null,
   "id": "fea58cfb",
   "metadata": {},
   "outputs": [],
   "source": []
  },
  {
   "cell_type": "code",
   "execution_count": 21,
   "id": "8b37ca28",
   "metadata": {},
   "outputs": [
    {
     "ename": "SyntaxError",
     "evalue": "invalid syntax (2020257217.py, line 2)",
     "output_type": "error",
     "traceback": [
      "\u001b[0;36m  Cell \u001b[0;32mIn[21], line 2\u001b[0;36m\u001b[0m\n\u001b[0;31m    - Most code is actually Data Prep and Model Evaluation. RA: show the picture of tech debt that you have on linkedin.\u001b[0m\n\u001b[0m           ^\u001b[0m\n\u001b[0;31mSyntaxError\u001b[0m\u001b[0;31m:\u001b[0m invalid syntax\n"
     ]
    }
   ],
   "source": [
    "# Caution\n",
    "- Most code is actually Data Prep and Model Evaluation. RA: show the picture of tech debt that you have on linkedin.\n",
    "\n",
    "- Accessible does not mean simple. \n",
    "\n",
    "\n",
    "\n"
   ]
  },
  {
   "cell_type": "code",
   "execution_count": 22,
   "id": "d80dec36",
   "metadata": {},
   "outputs": [
    {
     "ename": "SyntaxError",
     "evalue": "illegal target for annotation (2986893040.py, line 2)",
     "output_type": "error",
     "traceback": [
      "\u001b[0;36m  Cell \u001b[0;32mIn[22], line 2\u001b[0;36m\u001b[0m\n\u001b[0;31m    - RA: FastAI course/book/forums\u001b[0m\n\u001b[0m    ^\u001b[0m\n\u001b[0;31mSyntaxError\u001b[0m\u001b[0;31m:\u001b[0m illegal target for annotation\n"
     ]
    }
   ],
   "source": [
    "\n",
    "# Next Steps\n",
    "- RA: FastAI course/book/forums\n",
    "\n",
    "---\n"
   ]
  },
  {
   "cell_type": "markdown",
   "id": "07f0b42f",
   "metadata": {},
   "source": [
    "# Caveats\n",
    "- Overfitting\n",
    "- Underfitting\n",
    "- Stability\n"
   ]
  }
 ],
 "metadata": {
  "celltoolbar": "Slideshow",
  "kernelspec": {
   "display_name": "Python 3 (ipykernel)",
   "language": "python",
   "name": "python3"
  },
  "language_info": {
   "codemirror_mode": {
    "name": "ipython",
    "version": 3
   },
   "file_extension": ".py",
   "mimetype": "text/x-python",
   "name": "python",
   "nbconvert_exporter": "python",
   "pygments_lexer": "ipython3",
   "version": "3.10.12"
  }
 },
 "nbformat": 4,
 "nbformat_minor": 5
}
