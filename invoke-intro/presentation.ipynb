{
 "cells": [
  {
   "cell_type": "markdown",
   "id": "152f9003-0c9e-4809-abd8-739f15a243c5",
   "metadata": {},
   "source": [
    "# How to accept input for scripts from the command line"
   ]
  },
  {
   "cell_type": "markdown",
   "id": "9043c63f-5a10-45bb-b92a-b1a4459eb0c0",
   "metadata": {},
   "source": [
    "# Prep"
   ]
  },
  {
   "cell_type": "code",
   "execution_count": 1,
   "id": "4e48822f-b1e0-48dc-87ed-ad73931c6051",
   "metadata": {
    "collapsed": true,
    "jupyter": {
     "outputs_hidden": true
    },
    "tags": []
   },
   "outputs": [
    {
     "name": "stdout",
     "output_type": "stream",
     "text": [
      "total 76\r\n",
      "drwxrwxr-x 5 rajiv rajiv  4096 Feb 10 05:47 .\r\n",
      "drwxrwxr-x 5 rajiv rajiv  4096 Feb 10 05:17 ..\r\n",
      "-rw-rw-r-- 1 rajiv rajiv   351 Feb  7 05:30 activity.py\r\n",
      "-rw-rw-r-- 1 rajiv rajiv  1461 Feb  7 05:30 argparse_example.py\r\n",
      "-rw-rw-r-- 1 rajiv rajiv    13 Feb  7 05:30 .gitignore\r\n",
      "drwxrwxr-x 2 rajiv rajiv  4096 Feb  7 05:31 .ipynb_checkpoints\r\n",
      "-rw-rw-r-- 1 rajiv rajiv 20166 Feb 10 05:47 presentation.ipynb\r\n",
      "drwxrwxr-x 2 rajiv rajiv  4096 Feb 10 05:45 __pycache__\r\n",
      "-rw-rw-r-- 1 rajiv rajiv     7 Feb  7 05:30 .python-version\r\n",
      "-rw-rw-r-- 1 rajiv rajiv   211 Feb  7 05:30 README.md\r\n",
      "-rw-rw-r-- 1 rajiv rajiv    34 Feb  7 05:30 requirements.txt\r\n",
      "-rw-rw-r-- 1 rajiv rajiv    12 Feb  7 05:30 runtime.txt\r\n",
      "-rw-rw-r-- 1 rajiv rajiv    73 Feb  7 05:30 simple.py\r\n",
      "-rw-rw-r-- 1 rajiv rajiv   830 Feb  7 05:30 tasks.py\r\n",
      "drwxrwxr-x 7 rajiv rajiv  4096 Feb  7 05:31 venv\r\n"
     ]
    }
   ],
   "source": [
    "! ls -al"
   ]
  },
  {
   "cell_type": "markdown",
   "id": "65692bd3-34a7-4452-97cf-edeb645db516",
   "metadata": {},
   "source": [
    "## Beginner: Using inbuilt Python args"
   ]
  },
  {
   "cell_type": "markdown",
   "id": "9a488f80-a681-4056-b512-b325c69ca6e6",
   "metadata": {},
   "source": [
    "# simple.py\n",
    "```python\n",
    "import sys\n",
    "if __name__ == '__main__':\n",
    "    args = sys.argv\n",
    "    print(args)\n",
    "```"
   ]
  },
  {
   "cell_type": "code",
   "execution_count": 2,
   "id": "5e5cb5d8-5f91-4786-b436-fd6312ede340",
   "metadata": {
    "collapsed": true,
    "jupyter": {
     "outputs_hidden": true
    },
    "tags": []
   },
   "outputs": [
    {
     "name": "stdout",
     "output_type": "stream",
     "text": [
      "['simple.py', '--activity=train', '10', 'True', '/some/folder']\r\n"
     ]
    }
   ],
   "source": [
    "! python simple.py --activity=train 10 True /some/folder"
   ]
  },
  {
   "cell_type": "markdown",
   "id": "8d455215-e3b5-4d1a-a680-9a0e0f5e965d",
   "metadata": {},
   "source": [
    "# Opinion\n",
    "* strictly positional. I can't change the order\n",
    "* hard to know what `10 True..` stand for when one sees them in code. **Out of Band Documentation** check. \n",
    "* no interactive help commands to list tasks or add documentation like `ls --help`\n",
    "* We can give things like `python simple.py --activity=train` but then I have do write code to extract that. E.g. `\"--activity=train\".split('=')`\n",
    "* needless toil\n"
   ]
  },
  {
   "cell_type": "markdown",
   "id": "db854432-f53e-4090-b225-665df8d0dc83",
   "metadata": {},
   "source": [
    "## Using argparse"
   ]
  },
  {
   "cell_type": "code",
   "execution_count": 4,
   "id": "7f151cf9-5e5f-4010-8f21-9919b231b260",
   "metadata": {
    "collapsed": true,
    "jupyter": {
     "outputs_hidden": true
    },
    "tags": []
   },
   "outputs": [
    {
     "name": "stdout",
     "output_type": "stream",
     "text": [
      "usage: argparse_example.py [-h] -a {train,predict} [-e EPOCHS]\r\n",
      "                           [-d | --debug | --no-debug]\r\n",
      "                           [-p | --profile | --no-profile]\r\n",
      "                           [-l [LEARNING_RATE ...]] [-k PATH]\r\n",
      "\r\n",
      "Train Model\r\n",
      "\r\n",
      "options:\r\n",
      "  -h, --help            show this help message and exit\r\n",
      "  -a {train,predict}, --activity {train,predict}\r\n",
      "                        train or predict\r\n",
      "  -e EPOCHS, --epochs EPOCHS\r\n",
      "                        number of epochs\r\n",
      "  -d, --debug, --no-debug\r\n",
      "                        print debug statements (default: False)\r\n",
      "  -p, --profile, --no-profile\r\n",
      "                        profile memory statements (default: True)\r\n",
      "  -l [LEARNING_RATE ...], --learning_rate [LEARNING_RATE ...]\r\n",
      "                        model learning rate\r\n",
      "  -k PATH, --path PATH  output folder\r\n"
     ]
    }
   ],
   "source": [
    "! python argparse_example.py -h"
   ]
  },
  {
   "cell_type": "markdown",
   "id": "d2b5a4e2-69d2-403f-ac3f-1892f7d51bba",
   "metadata": {},
   "source": [
    "# argparse.py\n",
    "```python\n",
    "import argparse\n",
    "from pathlib import Path\n",
    "from activity import train\n",
    "\n",
    "if __name__ == '__main__':\n",
    "    parser = argparse.ArgumentParser(description=\"Train Model\")\n",
    "    \n",
    "    ### Explained Below - Start\n",
    "    # TODO: choice\n",
    "    parser.add_argument(\"-a\", \"--activity\", required=True, choices=['train', 'predict'], help=\"train or predict\")\n",
    "    # TODO: default and type\n",
    "    parser.add_argument(\"-e\", \"--epochs\", type=int, default=10, help=\"number of epochs\")\n",
    "    # TODO: Boolean options 1\n",
    "    parser.add_argument('-d', '--debug', action=argparse.BooleanOptionalAction, default=False, help=\"print debug \"\n",
    "                                                                                                    \"statements\")  # Python 3.9+\n",
    "    # TODO: Boolean options 2\n",
    "    parser.add_argument('-p', '--profile', action=argparse.BooleanOptionalAction, default=True, help=\"profile memory\"\n",
    "                                                                                                     \"statements\")  # Python 3.9+\n",
    "    # TODO: Multiple Values\n",
    "    parser.add_argument('-l', '--learning_rate', nargs=\"*\", help=\"model learning rate\")\n",
    "\n",
    "    # TODO: Can't give -p here as it'll conflict with `-p` for profile\n",
    "    # TODO: type Path\n",
    "    parser.add_argument(\"-k\", \"--path\", type=Path, help=\"output folder\")\n",
    "    \n",
    "    ### Explained Below - End\n",
    "\n",
    "    args = parser.parse_args()\n",
    "\n",
    "    if args.activity == 'train':\n",
    "        train(epochs=args.epochs, debug=args.debug, profile=args.profile, learning_rates=args.learning_rate,\n",
    "                       path=args.path)\n",
    "\n",
    "\n",
    "```"
   ]
  },
  {
   "cell_type": "code",
   "execution_count": 5,
   "id": "2d510543-9ac5-467e-acaf-eed89bc83abc",
   "metadata": {
    "collapsed": true,
    "jupyter": {
     "outputs_hidden": true
    },
    "tags": []
   },
   "outputs": [
    {
     "name": "stdout",
     "output_type": "stream",
     "text": [
      "In Training\r\n",
      "epochs:11\r\n",
      "type of epochs:<class 'int'>\r\n",
      "debug:True\r\n",
      "profile:True\r\n",
      "learning rate:None\r\n",
      "path: None\r\n",
      "Type of path: <class 'NoneType'>\r\n"
     ]
    }
   ],
   "source": [
    "# Defaults, Type Casting and Booleans\n",
    "# parser.add_argument(\"-e\", \"--epochs\", type=int, default=10, help=\"number of epochs\")\n",
    "# parser.add_argument('-d', '--debug', action=argparse.BooleanOptionalAction, default=False, help=\"print debug \"\"statements\")  # Python 3.9+\n",
    "   \n",
    "! python argparse_example.py --activity=train --debug -e 11"
   ]
  },
  {
   "cell_type": "code",
   "execution_count": 6,
   "id": "75722765-5b0d-4d00-9981-3126d1252352",
   "metadata": {
    "collapsed": true,
    "jupyter": {
     "outputs_hidden": true
    },
    "tags": []
   },
   "outputs": [
    {
     "name": "stdout",
     "output_type": "stream",
     "text": [
      "usage: argparse_example.py [-h] -a {train,predict} [-e EPOCHS]\r\n",
      "                           [-d | --debug | --no-debug]\r\n",
      "                           [-p | --profile | --no-profile]\r\n",
      "                           [-l [LEARNING_RATE ...]] [-k PATH]\r\n",
      "argparse_example.py: error: argument -e/--epochs: invalid int value: 'not_a_number'\r\n"
     ]
    }
   ],
   "source": [
    "# invalid epoch\n",
    "! python argparse_example.py --activity=train --debug -e not_a_number"
   ]
  },
  {
   "cell_type": "code",
   "execution_count": 7,
   "id": "1af52f89-0f19-4d11-bf04-660a77b3e2ef",
   "metadata": {
    "collapsed": true,
    "jupyter": {
     "outputs_hidden": true
    },
    "tags": []
   },
   "outputs": [
    {
     "name": "stdout",
     "output_type": "stream",
     "text": [
      "In Training\r\n",
      "epochs:10\r\n",
      "type of epochs:<class 'int'>\r\n",
      "debug:False\r\n",
      "profile:True\r\n",
      "learning rate:None\r\n",
      "path: None\r\n",
      "Type of path: <class 'NoneType'>\r\n"
     ]
    }
   ],
   "source": [
    "# no-debug\n",
    "! python argparse_example.py --activity=train --no-debug -e 10"
   ]
  },
  {
   "cell_type": "code",
   "execution_count": 10,
   "id": "29b62fcf-1ff3-4c84-92de-34150bce8d68",
   "metadata": {
    "collapsed": true,
    "jupyter": {
     "outputs_hidden": true
    },
    "tags": []
   },
   "outputs": [
    {
     "name": "stdout",
     "output_type": "stream",
     "text": [
      "In Training\r\n",
      "epochs:10\r\n",
      "type of epochs:<class 'int'>\r\n",
      "debug:False\r\n",
      "profile:True\r\n",
      "learning rate:['1', '2']\r\n",
      "path: None\r\n",
      "Type of path: <class 'NoneType'>\r\n"
     ]
    }
   ],
   "source": [
    "# learning_rate. Multiple Values\n",
    "# parser.add_argument('-l', '--learning_rate', nargs=\"*\", help=\"model learning rate\")\n",
    "! python argparse_example.py --activity train -l 1 2 "
   ]
  },
  {
   "cell_type": "code",
   "execution_count": 11,
   "id": "efa68ac0-ac9f-4a81-959e-91ce3b350796",
   "metadata": {
    "collapsed": true,
    "jupyter": {
     "outputs_hidden": true
    },
    "tags": []
   },
   "outputs": [
    {
     "name": "stdout",
     "output_type": "stream",
     "text": [
      "usage: argparse_example.py [-h] -a {train,predict} [-e EPOCHS]\r\n",
      "                           [-d | --debug | --no-debug]\r\n",
      "                           [-p | --profile | --no-profile]\r\n",
      "                           [-l [LEARNING_RATE ...]] [-k PATH]\r\n",
      "argparse_example.py: error: argument -a/--activity: invalid choice: 'bad_activity' (choose from 'train', 'predict')\r\n"
     ]
    }
   ],
   "source": [
    "# invalid choice\n",
    "# parser.add_argument(\"-a\", \"--activity\", required=True, choices=['train', 'predict'], help=\"train or predict\")\n",
    "\n",
    "! python argparse_example.py --activity bad_activity "
   ]
  },
  {
   "cell_type": "code",
   "execution_count": 12,
   "id": "3b4c1458-8d31-45d6-b21b-306f25acfa3a",
   "metadata": {
    "collapsed": true,
    "jupyter": {
     "outputs_hidden": true
    },
    "tags": []
   },
   "outputs": [
    {
     "name": "stdout",
     "output_type": "stream",
     "text": [
      "In Training\r\n",
      "epochs:10\r\n",
      "type of epochs:<class 'int'>\r\n",
      "debug:False\r\n",
      "profile:True\r\n",
      "learning rate:None\r\n",
      "path: /path/to/something\r\n",
      "Type of path: <class 'pathlib.PosixPath'>\r\n"
     ]
    }
   ],
   "source": [
    "# path\n",
    "#  TODO: Can't give -p here as it'll conflict with `-p` for profile\n",
    "# TODO: type Path\n",
    "# parser.add_argument(\"-k\", \"--path\", type=Path, help=\"output folder\")\n",
    "! python argparse_example.py --activity train --path /path/to/something"
   ]
  },
  {
   "cell_type": "markdown",
   "id": "28b20b53-97c0-429d-9555-35aa3b05726c",
   "metadata": {},
   "source": [
    "# Opinion\n",
    "* part of standard library\n",
    "* friction: hard to remember syntax \n",
    "* More info:    https://docs.python.org/3/library/argparse.html#quick-links-for-add-argument\n"
   ]
  },
  {
   "cell_type": "markdown",
   "id": "1ce84166-38db-4f0b-bd85-7b04168c911d",
   "metadata": {},
   "source": [
    "## Invoke"
   ]
  },
  {
   "cell_type": "markdown",
   "id": "17d0dc6d-e378-4e96-bfdf-b047fad8dda2",
   "metadata": {},
   "source": [
    "pip install invoke\n",
    "\n",
    "https://docs.pyinvoke.org/en/stable/getting-started.html"
   ]
  },
  {
   "cell_type": "code",
   "execution_count": 13,
   "id": "42da7ded-3435-4306-aa9c-59c0ab3a9465",
   "metadata": {
    "tags": []
   },
   "outputs": [
    {
     "name": "stdout",
     "output_type": "stream",
     "text": [
      "Available tasks:\r\n",
      "\r\n",
      "  do       Train or Predict Activity\r\n",
      "  say-hi\r\n",
      "\r\n"
     ]
    }
   ],
   "source": [
    "! invoke -l"
   ]
  },
  {
   "cell_type": "markdown",
   "id": "07e7dc34-5205-4861-b50d-fad571d9f87f",
   "metadata": {},
   "source": [
    "# tasks.py\n",
    "```python\n",
    "from invoke import task\n",
    "from activity import train\n",
    "\n",
    "@task\n",
    "def say_hi(context, name):\n",
    "    # function names are underscore, cli invocations are hyphen\n",
    "    # context object\n",
    "    context.run(f\"echo 'Hi {name}'\")\n",
    "\n",
    "    \n",
    "    \n",
    "@task(iterable=['learning_rate'])\n",
    "def do(context, activity, epochs=20, debug=False, profile=True, learning_rate=None, path=None):\n",
    "    \"\"\"\n",
    "    Train or Predict Activity\n",
    "\n",
    "    :param context: Invoke context object\n",
    "    :param activity: train or predict\n",
    "    :param epochs: number of epochs\n",
    "    :param debug: print debug statements\n",
    "    :param profile: profile memory\n",
    "    :param learning_rate: model learning rate\n",
    "    :param path: output folder\n",
    "    \"\"\"\n",
    "\n",
    "    context.run(\"echo 'Starting Training'\")\n",
    "    if activity == 'train':\n",
    "        train(epochs=epochs, debug=debug, profile=profile, learning_rates=learning_rate, path=path)\n",
    "\n",
    "\n",
    "\n",
    "```"
   ]
  },
  {
   "cell_type": "code",
   "execution_count": 14,
   "id": "2f0e67e6-90f3-4768-afa0-0f8056377f1f",
   "metadata": {
    "tags": []
   },
   "outputs": [
    {
     "name": "stdout",
     "output_type": "stream",
     "text": [
      "Usage: inv[oke] [--core-opts] do [--options] [other tasks here ...]\r\n",
      "\r\n",
      "Docstring:\r\n",
      "  Train or Predict Activity\r\n",
      "\r\n",
      "  :param context: Invoke context object\r\n",
      "  :param activity: train or predict\r\n",
      "  :param epochs: number of epochs\r\n",
      "  :param debug: print debug statements\r\n",
      "  :param profile: profile memory\r\n",
      "  :param learning_rate: model learning rate\r\n",
      "  :param path: output folder\r\n",
      "\r\n",
      "Options:\r\n",
      "  -a STRING, --activity=STRING\r\n",
      "  -d, --debug\r\n",
      "  -e INT, --epochs=INT\r\n",
      "  -l, --learning-rate\r\n",
      "  -p, --[no-]profile\r\n",
      "  -t STRING, --path=STRING\r\n",
      "\r\n"
     ]
    }
   ],
   "source": [
    "! inv -h do"
   ]
  },
  {
   "cell_type": "code",
   "execution_count": 15,
   "id": "53d7793d-4afd-4015-a384-e321e5553d29",
   "metadata": {
    "tags": []
   },
   "outputs": [
    {
     "name": "stdout",
     "output_type": "stream",
     "text": [
      "Starting Training\r\n",
      "In Training\r\n",
      "epochs:20\r\n",
      "type of epochs:<class 'int'>\r\n",
      "debug:False\r\n",
      "profile:True\r\n",
      "learning rate:['1', '2']\r\n",
      "path: None\r\n",
      "Type of path: <class 'NoneType'>\r\n"
     ]
    }
   ],
   "source": [
    "# learning rate. invoke vs argparse\n",
    "# ! python argparse_example.py --activity train -l 1 2 \n",
    "! inv do --activity=train -l 1 -l 2"
   ]
  },
  {
   "cell_type": "code",
   "execution_count": 16,
   "id": "fd04b7b8-1687-4ac6-9878-b7ec58a33084",
   "metadata": {
    "tags": []
   },
   "outputs": [
    {
     "name": "stdout",
     "output_type": "stream",
     "text": [
      "Starting Training\r\n",
      "In Training\r\n",
      "epochs:20\r\n",
      "type of epochs:<class 'int'>\r\n",
      "debug:True\r\n",
      "profile:False\r\n",
      "learning rate:[]\r\n",
      "path: None\r\n",
      "Type of path: <class 'NoneType'>\r\n"
     ]
    }
   ],
   "source": [
    "# Boolean options\n",
    "! inv do -a=train --debug --no-profile"
   ]
  },
  {
   "cell_type": "code",
   "execution_count": 17,
   "id": "a5e5004b-4103-426b-808d-9cd76437c0d8",
   "metadata": {
    "tags": []
   },
   "outputs": [
    {
     "name": "stdout",
     "output_type": "stream",
     "text": [
      "Starting Training\r\n",
      "In Training\r\n",
      "epochs:20\r\n",
      "type of epochs:<class 'int'>\r\n",
      "debug:False\r\n",
      "profile:True\r\n",
      "learning rate:[]\r\n",
      "path: /path/to/something\r\n",
      "Type of path: <class 'str'>\r\n"
     ]
    }
   ],
   "source": [
    "# Path. as str\n",
    "! inv do --activity train --path /path/to/something"
   ]
  },
  {
   "cell_type": "code",
   "execution_count": 28,
   "id": "1d106d56-17ea-4c50-84d7-15607ccd47f0",
   "metadata": {
    "tags": []
   },
   "outputs": [
    {
     "name": "stdout",
     "output_type": "stream",
     "text": [
      "Usage: inv[oke] [--core-opts] say-hi [--options] [other tasks here ...]\n",
      "\n",
      "Docstring:\n",
      "  none\n",
      "\n",
      "Options:\n",
      "  -n STRING, --name=STRING\n",
      "\n"
     ]
    }
   ],
   "source": [
    "! inv -h say-hi"
   ]
  },
  {
   "cell_type": "code",
   "execution_count": 29,
   "id": "dd851c1d-5a90-4dc5-9b8a-c8c04c98db1a",
   "metadata": {
    "tags": []
   },
   "outputs": [
    {
     "name": "stdout",
     "output_type": "stream",
     "text": [
      "Hi Code Plumber\n"
     ]
    }
   ],
   "source": [
    "! inv say-hi --name='Code Plumber'"
   ]
  },
  {
   "cell_type": "markdown",
   "id": "f83f67d5-53ab-44d6-9c51-a91b362c4f0f",
   "metadata": {},
   "source": [
    "# Context Object\n",
    "* Contains \"global\" data i.e. values loaded from configuration files or other configuration vectors, given via CLI flags\n",
    "* primary API endpoint to IO e.g. `context.run`\n",
    "* Very powerful design pattern in general. It is seen in AWS Lambda and powerful languages like Pony(https://tutorial.ponylang.io/getting-started/hello-world.html)"
   ]
  },
  {
   "cell_type": "markdown",
   "id": "9d6536e0-2832-4cb4-aa01-92c2a2ddb433",
   "metadata": {},
   "source": [
    "## Limitations\n",
    "        * specify type e.g. Path \n",
    "        * 'choices'.\n",
    "`\n",
    "## Strengths\n",
    "    * Full fledged task runner. like make. tasks with dependencies.\n",
    "    * Low friction"
   ]
  },
  {
   "cell_type": "markdown",
   "id": "4db24fb5-10bf-4cf7-9998-7f9bc6c8a0bc",
   "metadata": {},
   "source": [
    "# Alternatives\n",
    "\n",
    "- Click(https://click.palletsprojects.com/en/8.1.x/#). powerful but I like invoke's simplicity. Invoke is more of a task runner.\n",
    "- pydoit(https://pydoit.org/). powerful but it has a style where I'm not sure I can convince my team.\n",
    "- Google Fire(https://github.com/google/python-fire). Popular and like Click.\n"
   ]
  }
 ],
 "metadata": {
  "kernelspec": {
   "display_name": "Python 3 (ipykernel)",
   "language": "python",
   "name": "python3"
  },
  "language_info": {
   "codemirror_mode": {
    "name": "ipython",
    "version": 3
   },
   "file_extension": ".py",
   "mimetype": "text/x-python",
   "name": "python",
   "nbconvert_exporter": "python",
   "pygments_lexer": "ipython3",
   "version": "3.10.6"
  }
 },
 "nbformat": 4,
 "nbformat_minor": 5
}
